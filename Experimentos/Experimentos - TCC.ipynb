{
 "cells": [
  {
   "cell_type": "code",
   "execution_count": 1,
   "id": "eefdcd90",
   "metadata": {},
   "outputs": [
    {
     "name": "stderr",
     "output_type": "stream",
     "text": [
      "2023-09-04 20:05:52.725279: W tensorflow/stream_executor/platform/default/dso_loader.cc:64] Could not load dynamic library 'libcudart.so.11.0'; dlerror: libcudart.so.11.0: cannot open shared object file: No such file or directory\n",
      "2023-09-04 20:05:52.725299: I tensorflow/stream_executor/cuda/cudart_stub.cc:29] Ignore above cudart dlerror if you do not have a GPU set up on your machine.\n",
      "/home/diego/Documentos/Projetos/env/lib/python3.8/site-packages/requests/__init__.py:102: RequestsDependencyWarning: urllib3 (1.26.9) or chardet (5.1.0)/charset_normalizer (2.0.12) doesn't match a supported version!\n",
      "  warnings.warn(\"urllib3 ({}) or chardet ({})/charset_normalizer ({}) doesn't match a supported \"\n",
      "WARNING:root:No module named 'fairlearn': ExponentiatedGradientReduction will be unavailable. To install, run:\n",
      "pip install 'aif360[Reductions]'\n",
      "WARNING:root:No module named 'fairlearn': GridSearchReduction will be unavailable. To install, run:\n",
      "pip install 'aif360[Reductions]'\n"
     ]
    }
   ],
   "source": [
    "import sys\n",
    "import pandas as pd\n",
    "import numpy as np \n",
    "import sys\n",
    "\n",
    "from settings import set_configs\n",
    "\n",
    "sys.path.append('../Algoritmos')\n",
    "from model_selection_performer import ModelSelection_Performer\n",
    "\n",
    "sys.path.append('../Datasets/Preprocessed-Datasets')\n",
    "from datasets import (Adult, Arrhythmia, Bank, CompasMen, CompasWomen, Contraceptive, \n",
    "                      Heroin, Nicotine, Student, Titanic)\n",
    "\n",
    "import warnings\n",
    "warnings.filterwarnings('ignore')\n",
    "\n",
    "# para rodar o ad\n",
    "import tensorflow as tf\n",
    "tf.compat.v1.disable_eager_execution()"
   ]
  },
  {
   "cell_type": "code",
   "execution_count": 2,
   "id": "2adebdd4",
   "metadata": {},
   "outputs": [
    {
     "name": "stdout",
     "output_type": "stream",
     "text": [
      "Teste | Classifier 29/30 (XGB)\n"
     ]
    }
   ],
   "source": [
    "datasets = [Adult, Arrhythmia, Bank, CompasMen, CompasWomen, Contraceptive, Heroin, Nicotine, Student, Titanic]\n",
    "\n",
    "for dataset in datasets:\n",
    "    x, y = dataset().get_xy()\n",
    "    all_configs = set_configs(x.shape[1])\n",
    "    for config_name, settings in all_configs.items():\n",
    "        name = dataset.__name__.lower() + '_' + config_name\n",
    "        experiment = ModelSelection_Performer(classifier_settings=settings, protected_attribute='Group',\n",
    "                                              priv_group='Privileged', n=5, test_size=0.25,\n",
    "                                              random_state=42, print_display=True,\n",
    "                                              print_reports=True, experiment_name=name)\n",
    "        experiment.calculate(x, y)"
   ]
  },
  {
   "cell_type": "code",
   "execution_count": null,
   "id": "826b2306",
   "metadata": {},
   "outputs": [],
   "source": []
  }
 ],
 "metadata": {
  "kernelspec": {
   "display_name": "Python 3 (ipykernel)",
   "language": "python",
   "name": "python3"
  },
  "language_info": {
   "codemirror_mode": {
    "name": "ipython",
    "version": 3
   },
   "file_extension": ".py",
   "mimetype": "text/x-python",
   "name": "python",
   "nbconvert_exporter": "python",
   "pygments_lexer": "ipython3",
   "version": "3.8.10"
  }
 },
 "nbformat": 4,
 "nbformat_minor": 5
}
